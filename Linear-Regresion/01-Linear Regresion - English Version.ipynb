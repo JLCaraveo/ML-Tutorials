{
 "cells": [
  {
   "cell_type": "markdown",
   "id": "48c47671",
   "metadata": {},
   "source": [
    "# Linear Regression"
   ]
  },
  {
   "cell_type": "markdown",
   "id": "5da8c49a",
   "metadata": {},
   "source": [
    "## Simple Linear Regression"
   ]
  },
  {
   "cell_type": "markdown",
   "id": "80845c2c",
   "metadata": {
    "heading_collapsed": true
   },
   "source": [
    "### Linear Regression Hypothesis"
   ]
  },
  {
   "cell_type": "markdown",
   "id": "fadcb745",
   "metadata": {
    "hidden": true
   },
   "source": [
    "Regression problems are those that, given an independent variable (x) we can predict the result of a second (y).\n",
    "\n",
    "Simple Linear regression results in a linear system where the hypothesis is:\n",
    "\n",
    "$$Hypothesis: h_0(x) = \\theta_0 + \\theta_1 \\cdot x$$\n",
    "\n",
    "where:\n",
    "\n",
    "* $h_0(x):$ is the prediction, that is, the variable y.\n",
    "* $\\theta_0\\ and\\ \\theta_1:$ Are the parameters that the algorithm tries to find such that the prediction error is as small as possible."
   ]
  },
  {
   "cell_type": "markdown",
   "id": "791dec81",
   "metadata": {
    "heading_collapsed": true
   },
   "source": [
    "### Cost Function"
   ]
  },
  {
   "cell_type": "markdown",
   "id": "c0e62697",
   "metadata": {
    "hidden": true
   },
   "source": [
    "The process of the algorithm is, the parameters $\\theta_0\\ and\\ \\theta_1$ are initialized randomly. For example:\n",
    "\n",
    "$$Parameters = [0, 0]$$\n",
    "\n",
    "The algorithm will proceed to make the first prediction. For each value of the variable $x$, a variable $y$ is predicted, to differentiate, we will call this variable $y$ as $y_{pred}$.\n",
    "\n",
    "Once all the predictions are made, the cost is calculated. The formula to calculate it is as follows:\n",
    "\n",
    "$$J(\\theta_0,\\ \\theta_1) = \\frac{1}{2m} \\sum_{i=1}^{m}(h_0(x^i) - y^i)^2$$\n",
    "\n",
    "where:\n",
    "* $m$: It is the number of samples that are being analyzed, or the number of examples.\n",
    "* $h_0(x^i)$: It is the result of the prediction calculated previously, that is, the value of the variable $y_{pred}$.\n",
    "\n",
    "The final objective of the algorithm is to minimize $J(\\theta_0,\\ \\theta_1)$, that is, to find the optimal $\\theta_0\\ and\\ \\theta_1$ that minimize the cost or also called loss."
   ]
  },
  {
   "cell_type": "markdown",
   "id": "e7045a1e",
   "metadata": {
    "hidden": true
   },
   "source": [
    "So far we can summarize that we have:\n",
    "\n",
    "* Hypothesis: $h_0(x) = \\theta_0 + \\theta_1 \\cdot x$.\n",
    "* Parameters: $\\theta_0,\\ \\theta_1$\n",
    "* Cost function: $J(\\theta_0,\\ \\theta_1) = \\frac{1}{2m} \\sum_{i=1}^{m}(h_0(x^i) - y^i)^2$\n",
    "* Target: $min\\ J(\\theta_0,\\ \\theta_1)$"
   ]
  },
  {
   "cell_type": "markdown",
   "id": "55a2d50d",
   "metadata": {
    "heading_collapsed": true
   },
   "source": [
    "### Gradient Descent"
   ]
  },
  {
   "cell_type": "markdown",
   "id": "fe99a3a3",
   "metadata": {
    "hidden": true
   },
   "source": [
    "Gradient descent is an optimization algorithm that helps us find the minimum cost of a regression problem.\n",
    "\n",
    "To find the minimum in an equation, multivariable calculus is used, partial derivatives are applied to the cost function, with respect to each parameter $\\theta_0\\ and\\ \\theta_1$. In addition, a learning rate is established that helps to recalculate the parameters until it converges to a minimum. In this sense, the algorithm is expressed as follows.\n",
    "\n",
    "Repeat until converge {\n",
    "    $$\\theta_j := \\theta_j - \\alpha \\frac{\\partial}{\\partial \\theta_j}\\ J(\\theta_0,\\ \\theta_1)$$\n",
    "    $$(For\\ j = 1\\ and\\ j = 0)$$\n",
    "\n",
    "}\n",
    "\n",
    "where:\n",
    "* $\\alpha$ is the learning rate.\n",
    "\n",
    "**Partial derivatives for $\\theta_0\\ and\\ \\theta_1$**\n",
    "\n",
    "$$j = 0\\ :\\ \\frac{\\partial}{\\partial \\theta_0} = \\frac{1}{m} \\sum_{i=1}^{m}(h_0(x^i) - y^ i)$$\n",
    "$$j = 1\\ :\\ \\frac{\\partial}{\\partial \\theta_1} = \\frac{1}{m} \\sum_{i=1}^{m}(h_0(x^i) - y^ i)\\cdot x^i$$\n",
    "\n",
    "Given these derivatives, the algorithm is as follows:\n",
    "\n",
    "Repeat until converge {\n",
    "    $$\\theta_0 := \\theta_0 - \\alpha \\frac{1}{m} \\sum_{i=1}^{m}(h_0(x^i) - y^i)$$\n",
    "    $$\\theta_1 := \\theta_1 - \\alpha \\frac{1}{m} \\sum_{i=1}^{m}(h_0(x^i) - y^i)\\cdot x^i$$\n",
    "    \n",
    "* Update $\\theta_0$\n",
    "\n",
    "* Update $\\theta_1$\n",
    "\n",
    "\n",
    "}"
   ]
  },
  {
   "cell_type": "markdown",
   "id": "cc98ff03",
   "metadata": {
    "heading_collapsed": true
   },
   "source": [
    "### Code Implementation"
   ]
  },
  {
   "cell_type": "code",
   "execution_count": 1,
   "id": "006bc13d",
   "metadata": {
    "hidden": true
   },
   "outputs": [],
   "source": [
    "import time\n",
    "from IPython.display import clear_output\n",
    "\n",
    "import pandas as pd\n",
    "import numpy as np\n",
    "import matplotlib\n",
    "import matplotlib.pyplot as plt\n",
    "\n",
    "matplotlib.style.use('ggplot')"
   ]
  },
  {
   "cell_type": "markdown",
   "id": "a7ec87e6",
   "metadata": {
    "hidden": true
   },
   "source": [
    "One of the dataset par excellence to understand the Linear Regression algorithm is that of the price of houses in Boston.\n",
    "\n",
    "The data is available at the following link. [Link](https://www.kaggle.com/vikrishnan/boston-house-prices)"
   ]
  },
  {
   "cell_type": "code",
   "execution_count": 2,
   "id": "b2158344",
   "metadata": {
    "hidden": true
   },
   "outputs": [
    {
     "data": {
      "text/html": [
       "<div>\n",
       "<style scoped>\n",
       "    .dataframe tbody tr th:only-of-type {\n",
       "        vertical-align: middle;\n",
       "    }\n",
       "\n",
       "    .dataframe tbody tr th {\n",
       "        vertical-align: top;\n",
       "    }\n",
       "\n",
       "    .dataframe thead th {\n",
       "        text-align: right;\n",
       "    }\n",
       "</style>\n",
       "<table border=\"1\" class=\"dataframe\">\n",
       "  <thead>\n",
       "    <tr style=\"text-align: right;\">\n",
       "      <th></th>\n",
       "      <th>0</th>\n",
       "      <th>1</th>\n",
       "      <th>2</th>\n",
       "      <th>3</th>\n",
       "      <th>4</th>\n",
       "      <th>5</th>\n",
       "      <th>6</th>\n",
       "      <th>7</th>\n",
       "      <th>8</th>\n",
       "      <th>9</th>\n",
       "      <th>10</th>\n",
       "      <th>11</th>\n",
       "      <th>12</th>\n",
       "      <th>13</th>\n",
       "    </tr>\n",
       "  </thead>\n",
       "  <tbody>\n",
       "    <tr>\n",
       "      <th>0</th>\n",
       "      <td>0.00632</td>\n",
       "      <td>18.0</td>\n",
       "      <td>2.31</td>\n",
       "      <td>0</td>\n",
       "      <td>0.538</td>\n",
       "      <td>6.575</td>\n",
       "      <td>65.2</td>\n",
       "      <td>4.0900</td>\n",
       "      <td>1</td>\n",
       "      <td>296.0</td>\n",
       "      <td>15.3</td>\n",
       "      <td>396.90</td>\n",
       "      <td>4.98</td>\n",
       "      <td>24.0</td>\n",
       "    </tr>\n",
       "    <tr>\n",
       "      <th>1</th>\n",
       "      <td>0.02731</td>\n",
       "      <td>0.0</td>\n",
       "      <td>7.07</td>\n",
       "      <td>0</td>\n",
       "      <td>0.469</td>\n",
       "      <td>6.421</td>\n",
       "      <td>78.9</td>\n",
       "      <td>4.9671</td>\n",
       "      <td>2</td>\n",
       "      <td>242.0</td>\n",
       "      <td>17.8</td>\n",
       "      <td>396.90</td>\n",
       "      <td>9.14</td>\n",
       "      <td>21.6</td>\n",
       "    </tr>\n",
       "    <tr>\n",
       "      <th>2</th>\n",
       "      <td>0.02729</td>\n",
       "      <td>0.0</td>\n",
       "      <td>7.07</td>\n",
       "      <td>0</td>\n",
       "      <td>0.469</td>\n",
       "      <td>7.185</td>\n",
       "      <td>61.1</td>\n",
       "      <td>4.9671</td>\n",
       "      <td>2</td>\n",
       "      <td>242.0</td>\n",
       "      <td>17.8</td>\n",
       "      <td>392.83</td>\n",
       "      <td>4.03</td>\n",
       "      <td>34.7</td>\n",
       "    </tr>\n",
       "    <tr>\n",
       "      <th>3</th>\n",
       "      <td>0.03237</td>\n",
       "      <td>0.0</td>\n",
       "      <td>2.18</td>\n",
       "      <td>0</td>\n",
       "      <td>0.458</td>\n",
       "      <td>6.998</td>\n",
       "      <td>45.8</td>\n",
       "      <td>6.0622</td>\n",
       "      <td>3</td>\n",
       "      <td>222.0</td>\n",
       "      <td>18.7</td>\n",
       "      <td>394.63</td>\n",
       "      <td>2.94</td>\n",
       "      <td>33.4</td>\n",
       "    </tr>\n",
       "    <tr>\n",
       "      <th>4</th>\n",
       "      <td>0.06905</td>\n",
       "      <td>0.0</td>\n",
       "      <td>2.18</td>\n",
       "      <td>0</td>\n",
       "      <td>0.458</td>\n",
       "      <td>7.147</td>\n",
       "      <td>54.2</td>\n",
       "      <td>6.0622</td>\n",
       "      <td>3</td>\n",
       "      <td>222.0</td>\n",
       "      <td>18.7</td>\n",
       "      <td>396.90</td>\n",
       "      <td>5.33</td>\n",
       "      <td>36.2</td>\n",
       "    </tr>\n",
       "  </tbody>\n",
       "</table>\n",
       "</div>"
      ],
      "text/plain": [
       "        0     1     2   3      4      5     6       7   8      9     10  \\\n",
       "0  0.00632  18.0  2.31   0  0.538  6.575  65.2  4.0900   1  296.0  15.3   \n",
       "1  0.02731   0.0  7.07   0  0.469  6.421  78.9  4.9671   2  242.0  17.8   \n",
       "2  0.02729   0.0  7.07   0  0.469  7.185  61.1  4.9671   2  242.0  17.8   \n",
       "3  0.03237   0.0  2.18   0  0.458  6.998  45.8  6.0622   3  222.0  18.7   \n",
       "4  0.06905   0.0  2.18   0  0.458  7.147  54.2  6.0622   3  222.0  18.7   \n",
       "\n",
       "       11    12    13  \n",
       "0  396.90  4.98  24.0  \n",
       "1  396.90  9.14  21.6  \n",
       "2  392.83  4.03  34.7  \n",
       "3  394.63  2.94  33.4  \n",
       "4  396.90  5.33  36.2  "
      ]
     },
     "execution_count": 2,
     "metadata": {},
     "output_type": "execute_result"
    }
   ],
   "source": [
    "data = pd.read_csv('../data/housing.csv', header=None, sep='\\s+')\n",
    "data.head()"
   ]
  },
  {
   "cell_type": "markdown",
   "id": "fd04287f",
   "metadata": {
    "hidden": true
   },
   "source": [
    "We see that the dataset does not have columns, luckily Kaggle provides us with their names to be able to add them.\n",
    "\n",
    "* CRIM: crime rate in the area.\n",
    "* ZN: proportion of residential land zoned for lots over 25,000 square feet.\n",
    "* INDUS: proportion of commercial non-retail acres by city.\n",
    "* CHAS: Charles River dummy (= 1 if the reach borders the river; 0 otherwise).\n",
    "* NOX: concentration of nitric oxides (parts per 10 million).\n",
    "* RM: average number of rooms per dwelling.\n",
    "* AGE: proportion of owner-occupied units built before 1940.\n",
    "* DIS: weighted distances to five Boston employment centers.\n",
    "* RAD: index of accessibility to radial roads.\n",
    "*TAX: Full value property tax rate per $10,000.\n",
    "PTRATIO: student-teacher ratio by city.\n",
    "* B: 1000 * (Bk−0.63)2 where Bk is the proportion of blacks per city.\n",
    "* LSTAT: \\% of the population with lower status.\n",
    "* MEDV: median value of owner-occupied homes in thousands of dollars."
   ]
  },
  {
   "cell_type": "code",
   "execution_count": 3,
   "id": "77747124",
   "metadata": {
    "hidden": true
   },
   "outputs": [
    {
     "data": {
      "text/html": [
       "<div>\n",
       "<style scoped>\n",
       "    .dataframe tbody tr th:only-of-type {\n",
       "        vertical-align: middle;\n",
       "    }\n",
       "\n",
       "    .dataframe tbody tr th {\n",
       "        vertical-align: top;\n",
       "    }\n",
       "\n",
       "    .dataframe thead th {\n",
       "        text-align: right;\n",
       "    }\n",
       "</style>\n",
       "<table border=\"1\" class=\"dataframe\">\n",
       "  <thead>\n",
       "    <tr style=\"text-align: right;\">\n",
       "      <th></th>\n",
       "      <th>CRIM</th>\n",
       "      <th>ZN</th>\n",
       "      <th>INDUS</th>\n",
       "      <th>CHAS</th>\n",
       "      <th>NOX</th>\n",
       "      <th>RM</th>\n",
       "      <th>AGE</th>\n",
       "      <th>DIS</th>\n",
       "      <th>RAD</th>\n",
       "      <th>TAX</th>\n",
       "      <th>PTRATIO</th>\n",
       "      <th>B</th>\n",
       "      <th>LSTAT</th>\n",
       "      <th>MEDV</th>\n",
       "    </tr>\n",
       "  </thead>\n",
       "  <tbody>\n",
       "    <tr>\n",
       "      <th>0</th>\n",
       "      <td>0.00632</td>\n",
       "      <td>18.0</td>\n",
       "      <td>2.31</td>\n",
       "      <td>0</td>\n",
       "      <td>0.538</td>\n",
       "      <td>6.575</td>\n",
       "      <td>65.2</td>\n",
       "      <td>4.0900</td>\n",
       "      <td>1</td>\n",
       "      <td>296.0</td>\n",
       "      <td>15.3</td>\n",
       "      <td>396.90</td>\n",
       "      <td>4.98</td>\n",
       "      <td>24.0</td>\n",
       "    </tr>\n",
       "    <tr>\n",
       "      <th>1</th>\n",
       "      <td>0.02731</td>\n",
       "      <td>0.0</td>\n",
       "      <td>7.07</td>\n",
       "      <td>0</td>\n",
       "      <td>0.469</td>\n",
       "      <td>6.421</td>\n",
       "      <td>78.9</td>\n",
       "      <td>4.9671</td>\n",
       "      <td>2</td>\n",
       "      <td>242.0</td>\n",
       "      <td>17.8</td>\n",
       "      <td>396.90</td>\n",
       "      <td>9.14</td>\n",
       "      <td>21.6</td>\n",
       "    </tr>\n",
       "    <tr>\n",
       "      <th>2</th>\n",
       "      <td>0.02729</td>\n",
       "      <td>0.0</td>\n",
       "      <td>7.07</td>\n",
       "      <td>0</td>\n",
       "      <td>0.469</td>\n",
       "      <td>7.185</td>\n",
       "      <td>61.1</td>\n",
       "      <td>4.9671</td>\n",
       "      <td>2</td>\n",
       "      <td>242.0</td>\n",
       "      <td>17.8</td>\n",
       "      <td>392.83</td>\n",
       "      <td>4.03</td>\n",
       "      <td>34.7</td>\n",
       "    </tr>\n",
       "    <tr>\n",
       "      <th>3</th>\n",
       "      <td>0.03237</td>\n",
       "      <td>0.0</td>\n",
       "      <td>2.18</td>\n",
       "      <td>0</td>\n",
       "      <td>0.458</td>\n",
       "      <td>6.998</td>\n",
       "      <td>45.8</td>\n",
       "      <td>6.0622</td>\n",
       "      <td>3</td>\n",
       "      <td>222.0</td>\n",
       "      <td>18.7</td>\n",
       "      <td>394.63</td>\n",
       "      <td>2.94</td>\n",
       "      <td>33.4</td>\n",
       "    </tr>\n",
       "    <tr>\n",
       "      <th>4</th>\n",
       "      <td>0.06905</td>\n",
       "      <td>0.0</td>\n",
       "      <td>2.18</td>\n",
       "      <td>0</td>\n",
       "      <td>0.458</td>\n",
       "      <td>7.147</td>\n",
       "      <td>54.2</td>\n",
       "      <td>6.0622</td>\n",
       "      <td>3</td>\n",
       "      <td>222.0</td>\n",
       "      <td>18.7</td>\n",
       "      <td>396.90</td>\n",
       "      <td>5.33</td>\n",
       "      <td>36.2</td>\n",
       "    </tr>\n",
       "  </tbody>\n",
       "</table>\n",
       "</div>"
      ],
      "text/plain": [
       "      CRIM    ZN  INDUS  CHAS    NOX     RM   AGE     DIS  RAD    TAX  \\\n",
       "0  0.00632  18.0   2.31     0  0.538  6.575  65.2  4.0900    1  296.0   \n",
       "1  0.02731   0.0   7.07     0  0.469  6.421  78.9  4.9671    2  242.0   \n",
       "2  0.02729   0.0   7.07     0  0.469  7.185  61.1  4.9671    2  242.0   \n",
       "3  0.03237   0.0   2.18     0  0.458  6.998  45.8  6.0622    3  222.0   \n",
       "4  0.06905   0.0   2.18     0  0.458  7.147  54.2  6.0622    3  222.0   \n",
       "\n",
       "   PTRATIO       B  LSTAT  MEDV  \n",
       "0     15.3  396.90   4.98  24.0  \n",
       "1     17.8  396.90   9.14  21.6  \n",
       "2     17.8  392.83   4.03  34.7  \n",
       "3     18.7  394.63   2.94  33.4  \n",
       "4     18.7  396.90   5.33  36.2  "
      ]
     },
     "execution_count": 3,
     "metadata": {},
     "output_type": "execute_result"
    }
   ],
   "source": [
    "columns = ['CRIM', 'ZN', 'INDUS', 'CHAS', 'NOX', 'RM', 'AGE', 'DIS', 'RAD', 'TAX', 'PTRATIO',\n",
    "          'B', 'LSTAT', 'MEDV']\n",
    "\n",
    "data.columns = columns\n",
    "data.head()"
   ]
  },
  {
   "cell_type": "markdown",
   "id": "f6f3846c",
   "metadata": {
    "hidden": true
   },
   "source": [
    "The average price of the house (MEDV) will be predicted with respect to the number of rooms that make it up (RM)."
   ]
  },
  {
   "cell_type": "code",
   "execution_count": 4,
   "id": "63ee843f",
   "metadata": {
    "hidden": true
   },
   "outputs": [],
   "source": [
    "# Variables needed for the model\n",
    "m = len(data)\n",
    "x = data['RM']\n",
    "y = data['MEDV']"
   ]
  },
  {
   "cell_type": "code",
   "execution_count": 5,
   "id": "e0c83f6f",
   "metadata": {
    "hidden": true
   },
   "outputs": [
    {
     "name": "stdout",
     "output_type": "stream",
     "text": [
      "Prediction in the iteration 50000\n",
      "Cost in the iteration 50000: 21.800321736784475\n",
      "Theta_0: -34.584358797761816, Theta_1: 9.088548160811078\n",
      "Price = -34.584358797761816 + 9.088548160811078 * X\n",
      "\n",
      "\n"
     ]
    },
    {
     "data": {
      "image/png": "[encoded data removed]",
      "text/plain": [
       "<Figure size 576x576 with 1 Axes>"
      ]
     },
     "metadata": {},
     "output_type": "display_data"
    }
   ],
   "source": [
    "# Function to calculate y_pred\n",
    "def get_y_pred(x, theta):\n",
    "    return theta[0] + theta[1] * x\n",
    "\n",
    "# Function to calculate the cost\n",
    "def get_cost(y_pred, y):\n",
    "    return (np.sum((y_pred - y).dot((y_pred - y).T))) / (2 * m)\n",
    "\n",
    "# Gradient descent to find the optimal parameters\n",
    "def get_predictions(x, y, n_iter, theta, alpha=0.01):\n",
    "    for i in range(n_iter):\n",
    "        # We predict y with respect to theta in the i-th iteration\n",
    "        y_pred = get_y_pred(x, theta)\n",
    "        \n",
    "        # We calculate the parameters theta_0 and theta_1 in the i-th iteration\n",
    "        theta_0 = theta[0] - (alpha * ((np.sum(y_pred - y)) / m))\n",
    "        theta_1 = theta[1] - (alpha * ((np.sum((y_pred - y) * x)) / m))\n",
    "        \n",
    "        theta = [theta_0, theta_1]\n",
    "        \n",
    "        # We calculate the cost with respect to y_pred in the i-th iteration \n",
    "        cost = get_cost(y_pred, y)\n",
    "        \n",
    "        # We plot a visualization every 1000 iterations\n",
    "        if i % 1000 == 0:\n",
    "            print('Prediction in the iteration {}'.format(i))\n",
    "            print('Cost in the iteration {}: {}'.format(i, cost))\n",
    "            print('Theta_0: {}, Theta_1: {}'.format(theta_0, theta_1))\n",
    "            print('Price = {} + {} * X'.format(theta_0, theta_1))\n",
    "            print('\\n')\n",
    "            plt.figure(figsize=(8,8))\n",
    "            plt.scatter(x, y, label='Real Data')\n",
    "            plt.plot(x, y_pred, color='k', label='Prediction')\n",
    "            plt.title('Num Rooms vs Price')\n",
    "            plt.xlabel('Number of rooms')\n",
    "            plt.ylabel('Price: Miles of dollars')\n",
    "            plt.legend(loc='best')\n",
    "            plt.show()\n",
    "            \n",
    "            time.sleep(0.1)\n",
    "            clear_output(wait=True)\n",
    "            \n",
    "    return theta\n",
    "\n",
    "initial_theta = theta = np.array([0,0])\n",
    "n_inter = 50001\n",
    "\n",
    "theta_optim = get_predictions(x, y, n_inter, initial_theta)"
   ]
  },
  {
   "cell_type": "markdown",
   "id": "3ed6fc59",
   "metadata": {
    "hidden": true
   },
   "source": [
    "As can be seen, the cost is minimized in each iteration, and thanks to the gradient descent algorithm we can find the optimal Theta values for the prediction."
   ]
  },
  {
   "cell_type": "markdown",
   "id": "34fd9f77",
   "metadata": {
    "heading_collapsed": true
   },
   "source": [
    "### Using SK-Learn"
   ]
  },
  {
   "cell_type": "markdown",
   "id": "b8368bd0",
   "metadata": {
    "hidden": true
   },
   "source": [
    "It is not scalable to be implementing the algorithm in code every time it is needed, for this, we can help ourselves with libraries such as Scikit Learn that already has it implemented and is very efficient. This is how we can, in a few lines of code, arrive at an optimal solution."
   ]
  },
  {
   "cell_type": "code",
   "execution_count": 8,
   "id": "95129e6a",
   "metadata": {
    "hidden": true
   },
   "outputs": [],
   "source": [
    "from sklearn.linear_model import LinearRegression"
   ]
  },
  {
   "cell_type": "markdown",
   "id": "1de431a9",
   "metadata": {
    "hidden": true
   },
   "source": [
    "The difference is that Sklearn needs a 2-dimensional array to work, so the data will need to be rescaled."
   ]
  },
  {
   "cell_type": "code",
   "execution_count": 11,
   "id": "06e634ab",
   "metadata": {
    "hidden": true
   },
   "outputs": [
    {
     "data": {
      "text/plain": [
       "(array([-34.67062078]), array([[9.10210898]]))"
      ]
     },
     "execution_count": 11,
     "metadata": {},
     "output_type": "execute_result"
    }
   ],
   "source": [
    "x = x.values.reshape(-1,1)\n",
    "y = y.values.reshape(-1,1)\n",
    "\n",
    "model = LinearRegression()\n",
    "model.fit(x, y)\n",
    "\n",
    "# Getting the optimal theta_0 y theta_1\n",
    "theta_0 = model.intercept_\n",
    "theta_1 = model.coef_\n",
    "theta_0, theta_1"
   ]
  },
  {
   "cell_type": "markdown",
   "id": "fec1299a",
   "metadata": {
    "hidden": true
   },
   "source": [
    "As can be seen, we have obtained the same values but with a simpler, clearer and faster implementation."
   ]
  },
  {
   "cell_type": "markdown",
   "id": "92fbe21f",
   "metadata": {},
   "source": [
    "## Multiple Linear Regression"
   ]
  },
  {
   "cell_type": "markdown",
   "id": "f6e1cc2d",
   "metadata": {
    "heading_collapsed": true
   },
   "source": [
    "### Multiple Linear Regression Hypothesis"
   ]
  },
  {
   "cell_type": "markdown",
   "id": "d11d5c56",
   "metadata": {
    "hidden": true
   },
   "source": [
    "The simple linear regression algorithm can be very useful, but sometimes it may fall short, or for slightly more complex problems, it may not be the best alternative for making predictions.\n",
    "\n",
    "The multiple linear regression model follows the same concept as the simple one, the difference is that now we add more than one independent variable $x$. Following this sense, the hypothesis of this algorithm is as follows:\n",
    "\n",
    "$$Hypothesis: h_0(x) = \\theta_0 + \\theta_1 \\cdot x_1 + \\theta_2 \\cdot x_2 + \\dots + \\theta_n \\cdot x_n$$\n",
    "\n",
    "where:\n",
    "\n",
    "* $h_0(x):$ is the prediction, that is, the variable y.\n",
    "* $\\theta_0, \\ \\theta_2, \\ \\dots, \\ \\theta_n:$ These are the parameters that the algorithm tries to find such that the prediction error is as small as possible."
   ]
  },
  {
   "cell_type": "markdown",
   "id": "b55e715d",
   "metadata": {
    "heading_collapsed": true
   },
   "source": [
    "### Cost Function"
   ]
  },
  {
   "cell_type": "markdown",
   "id": "827f6848",
   "metadata": {
    "hidden": true
   },
   "source": [
    "The cost function for this algorithm is the same as a linear model, the difference is that now more $\\theta$ parameters have to be initialized, such that the number of $\\theta_s$ is equal to $n+1$, where $n$ is the total of independent variables.\n",
    "\n",
    "$$J(\\theta_s) = \\frac{1}{2m} \\sum_{i=1}^{m}(h_0(x^i) - y^i)^2$$\n",
    "\n",
    "The final objective of the algorithm is to minimize $J(\\theta_s)$, that is, to find the optimal $\\theta_s$ that minimize the cost or also called loss."
   ]
  },
  {
   "cell_type": "markdown",
   "id": "baff8372",
   "metadata": {
    "heading_collapsed": true
   },
   "source": [
    "### Gradient Descent"
   ]
  },
  {
   "cell_type": "markdown",
   "id": "214f5dc1",
   "metadata": {
    "hidden": true
   },
   "source": [
    "We take as reference the gradient descent for the linear model, the difference is that now we have to find more parameters, but the process is the same.\n",
    "\n",
    "Repeat until converge {\n",
    "     $$\\theta_0 := \\theta_0 - \\alpha \\frac{1}{m} \\sum_{i=1}^{m}(h_0(x^i) - y^i)$$\n",
    "     $$\\theta_s\\ 1-n := \\theta_i - \\alpha \\frac{1}{m} \\sum_{i=1}^{m}(h_0(x^i) - y^i)\\cdot x^ i$$\n",
    "    \n",
    "* Update $\\theta_0$\n",
    "\n",
    "* Update $\\theta_s$ from 1 to n\n",
    "\n",
    "\n",
    "}"
   ]
  },
  {
   "cell_type": "markdown",
   "id": "c1fe4288",
   "metadata": {
    "heading_collapsed": true
   },
   "source": [
    "### Code Implementation"
   ]
  },
  {
   "cell_type": "markdown",
   "id": "8579f24f",
   "metadata": {
    "hidden": true
   },
   "source": [
    "In this study case, and to illustrate how a multiple linear regression algorithm is created, we will take the same data set and add one more variable, this is the LSTAT variable."
   ]
  },
  {
   "cell_type": "markdown",
   "id": "e2531c4c",
   "metadata": {
    "hidden": true
   },
   "source": [
    "We proceed to select the variables of the data set."
   ]
  },
  {
   "cell_type": "code",
   "execution_count": 12,
   "id": "58b05687",
   "metadata": {
    "hidden": true
   },
   "outputs": [],
   "source": [
    "# Independent variables\n",
    "x = data[['RM', 'LSTAT']]\n",
    "\n",
    "# Variable to predict y\n",
    "y = data['MEDV']\n",
    "m = len(data)\n",
    "\n",
    "# Adding a column of 1 to the variable x\n",
    "\n",
    "x = x.assign(ones=1)\n",
    "\n",
    "# Re ordenando para que los unos sean la primera columna\n",
    "x = x[['ones', 'RM', 'LSTAT']].values"
   ]
  },
  {
   "cell_type": "markdown",
   "id": "80a08eb6",
   "metadata": {
    "hidden": true
   },
   "source": [
    "> **Note:** We add the first column of ones to implement a vectorized solution. Theta_0 is not multiplied with any X variable. In order not to alter this parameter, we multiply it by 1."
   ]
  },
  {
   "cell_type": "code",
   "execution_count": 13,
   "id": "b2d16b82",
   "metadata": {
    "hidden": true
   },
   "outputs": [
    {
     "name": "stdout",
     "output_type": "stream",
     "text": [
      "The thetas optimal are: [-1.3528106   5.09403207 -0.64241202]\n"
     ]
    }
   ],
   "source": [
    "# Predict y-value\n",
    "def pred_y_multy(x, thetas):\n",
    "    return x.dot(thetas.T)\n",
    "\n",
    "# Getting cost\n",
    "def get_cost_multy(y_pred, y):\n",
    "    return (1 / 2*m) * np.sum((y_pred - y) * (y_pred - y))\n",
    "\n",
    "# gradient descent implementation\n",
    "def get_gradient_multy(x, y, n_iter, thetas, alpha):\n",
    "    for i in range(n_iter):\n",
    "        y_pred = pred_y_multy(x, thetas)\n",
    "        \n",
    "        thetas = thetas - (alpha * ((1 / m)*((y_pred - y).T.dot(x))))\n",
    "        \n",
    "    return thetas\n",
    "\n",
    "initial_thetas = np.array([0,0,0])\n",
    "alpha = 0.001\n",
    "n_iter = 1000000\n",
    "thetas = get_gradient_multy(x,y,n_iter, initial_thetas, alpha)\n",
    "\n",
    "print('The thetas optimal are: {}'.format(thetas))"
   ]
  },
  {
   "cell_type": "markdown",
   "id": "0514efd9",
   "metadata": {
    "heading_collapsed": true
   },
   "source": [
    "### Using Scikit-Learn"
   ]
  },
  {
   "cell_type": "markdown",
   "id": "32f91661",
   "metadata": {
    "hidden": true
   },
   "source": [
    "In practice, applying a code from scratch is not very scalable, fortunately, there are libraries that help us obtain results quickly and accurately. Scikit-Learn is one of the best in the field of Machine Learning. We can implement a multiple regression model with just a few lines of code."
   ]
  },
  {
   "cell_type": "code",
   "execution_count": 15,
   "id": "5c6d116c",
   "metadata": {
    "hidden": true
   },
   "outputs": [
    {
     "name": "stdout",
     "output_type": "stream",
     "text": [
      "[-1.35827281] [[ 5.09478798 -0.64235833]]\n"
     ]
    }
   ],
   "source": [
    "from sklearn.linear_model import LinearRegression\n",
    "\n",
    "X = data[['RM', 'LSTAT']].values\n",
    "y = data['MEDV'].values.reshape(-1, 1)\n",
    "\n",
    "slr = LinearRegression()\n",
    "slr.fit(X, y)\n",
    "\n",
    "coef = slr.coef_\n",
    "intercept = slr.intercept_\n",
    "\n",
    "print(intercept, coef)"
   ]
  },
  {
   "cell_type": "markdown",
   "id": "fc239497",
   "metadata": {
    "hidden": true
   },
   "source": [
    "The values that Scikit-Learn gives us as a result are similar to those obtained with the algorithm applied in code.\n",
    "\n",
    "But it should be noted that Scikit-Learn is faster and therefore a better solution."
   ]
  },
  {
   "cell_type": "markdown",
   "id": "9f0540ad",
   "metadata": {
    "hidden": true
   },
   "source": [
    "Visually representing data with two or more analyzed characteristics is complicated, the following graph tries to highlight how the data is projected to a solution given by the algorithm. But it's not the best way to do it.\n",
    "\n",
    "The important thing is to understand the results and make decisions based on them."
   ]
  },
  {
   "cell_type": "code",
   "execution_count": 52,
   "id": "22398554",
   "metadata": {
    "hidden": true
   },
   "outputs": [
    {
     "data": {
      "image/png": "[encoded data removed]",
      "text/plain": [
       "<Figure size 720x576 with 1 Axes>"
      ]
     },
     "metadata": {},
     "output_type": "display_data"
    }
   ],
   "source": [
    "from mpl_toolkits.mplot3d import *\n",
    "\n",
    "x1_range = np.arange(data['RM'].min(),data['RM'].max())\n",
    "x2_range = np.arange(data['LSTAT'].min(),data['LSTAT'].max())\n",
    "\n",
    "X1, X2 = np.meshgrid(x1_range,x2_range)\n",
    "\n",
    "plano = pd.DataFrame({'RM':X1.ravel(), 'LSTAT':X2.ravel()})\n",
    "pred = slr.predict(plano).reshape(X1.shape)\n",
    "\n",
    "fig = plt.figure(figsize=(10,8))\n",
    "ax = fig.gca(projection='3d')\n",
    "ax.plot_surface(X1,X2,pred, alpha=0.4, color='b')\n",
    "\n",
    "ax.scatter3D(data['RM'], data['LSTAT'], data['MEDV'], color='r', marker='.')\n",
    "ax.view_init(elev=10, azim=15)\n",
    "plt.show()"
   ]
  }
 ],
 "metadata": {
  "authors": [
   {
    "name": "José Luis Higuera Caraveo"
   }
  ],
  "colab": {
   "collapsed_sections": [
    "uW-Xfqevr7Sy"
   ],
   "name": "Recursos Humanos",
   "provenance": []
  },
  "date": "February 25 2022",
  "kernelspec": {
   "display_name": "Python 3 (ipykernel)",
   "language": "python",
   "name": "python3"
  },
  "language_info": {
   "codemirror_mode": {
    "name": "ipython",
    "version": 3
   },
   "file_extension": ".py",
   "mimetype": "text/x-python",
   "name": "python",
   "nbconvert_exporter": "python",
   "pygments_lexer": "ipython3",
   "version": "3.7.12"
  },
  "title": "Linear Regression with Python"
 },
 "nbformat": 4,
 "nbformat_minor": 5
}
