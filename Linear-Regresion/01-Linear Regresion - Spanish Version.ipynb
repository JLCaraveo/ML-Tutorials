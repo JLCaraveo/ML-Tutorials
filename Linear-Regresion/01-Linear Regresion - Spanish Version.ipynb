{
 "cells": [
  {
   "cell_type": "markdown",
   "id": "48c47671",
   "metadata": {},
   "source": [
    "# Regresión Lineal"
   ]
  },
  {
   "cell_type": "markdown",
   "id": "5da8c49a",
   "metadata": {},
   "source": [
    "## Regresión Lineal Simple"
   ]
  },
  {
   "cell_type": "markdown",
   "id": "80845c2c",
   "metadata": {
    "heading_collapsed": true
   },
   "source": [
    "### Hipótesis de la Regresión Lineal"
   ]
  },
  {
   "cell_type": "markdown",
   "id": "fadcb745",
   "metadata": {
    "hidden": true
   },
   "source": [
    "Los problemas de regresión son aquellos que, dado una variable de comportamiento (x) podemos predecir el resultado de una segunda (y).\n",
    "\n",
    "La regresión Lineal simple se traduce en un sistema lineal donde la hipótesis es:\n",
    "\n",
    "$$Hipótesis: h_0(x) = \\theta_0 + \\theta_1 \\cdot x$$\n",
    "\n",
    "donde:\n",
    "\n",
    "* $h_0(x):$ Es la predicción, es decir la variable y.\n",
    "* $\\theta_0\\ y\\ \\theta_1:$ Son los parámetros que el algoritmo trata de encontrar tales que el error de la predicción sea lo mínimo posible."
   ]
  },
  {
   "cell_type": "markdown",
   "id": "791dec81",
   "metadata": {
    "heading_collapsed": true
   },
   "source": [
    "### Función de coste"
   ]
  },
  {
   "cell_type": "markdown",
   "id": "c0e62697",
   "metadata": {
    "hidden": true
   },
   "source": [
    "El proceso del algoritmo es, se inicializan los parámetros $\\theta_0\\ y\\ \\theta_1$ de manera aleatoria. Por ejemplo:\n",
    "\n",
    "$$Parámetros = [0, 0]$$\n",
    "\n",
    "El algoritmo procederá a hacer la primera predicción. Para cada valor de la variable $x$, se predice una variable $y$, para diferenciar, llamaremos a esta variable $y$ como $y_{pred}$.\n",
    "\n",
    "Una vez se tienen todas las predicciones se procede en calcular el costo. La fórmula para calcularlo es la siguiente:\n",
    "\n",
    "$$J(\\theta_0,\\ \\theta_1) = \\frac{1}{2m} \\sum_{i=1}^{m}(h_0(x^i) - y^i)^2$$\n",
    "\n",
    "donde:\n",
    "* $m$: Es el número de muestras que se están analizando, o el número de ejemplos.\n",
    "* $h_0(x^i)$: Es el resultado de la predicción calculada anteriormente, es decir, el valor de la variable $y_{pred}$.\n",
    "\n",
    "El objetivo final del algoritmo es minimizar $J(\\theta_0,\\ \\theta_1)$ es decir, encontrar los $\\theta_0\\ y\\ \\theta_1$ óptimos que minimicen el costo o también llamado pérdida."
   ]
  },
  {
   "cell_type": "markdown",
   "id": "e7045a1e",
   "metadata": {
    "hidden": true
   },
   "source": [
    "Hasta este momento podemos resumir que tenemos:\n",
    "\n",
    "* Hipótesis: $h_0(x) = \\theta_0 + \\theta_1 \\cdot x$.\n",
    "* Parámetros: $\\theta_0,\\ \\theta_1$\n",
    "* Función de costo: $J(\\theta_0,\\ \\theta_1) = \\frac{1}{2m} \\sum_{i=1}^{m}(h_0(x^i) - y^i)^2$\n",
    "* Objetivo: $min\\ J(\\theta_0,\\ \\theta_1)$"
   ]
  },
  {
   "cell_type": "markdown",
   "id": "55a2d50d",
   "metadata": {
    "heading_collapsed": true
   },
   "source": [
    "### Descenso del Gradiente"
   ]
  },
  {
   "cell_type": "markdown",
   "id": "fe99a3a3",
   "metadata": {
    "hidden": true
   },
   "source": [
    "El descenso del gradiente es un algoritmo de optimización que nos ayuda a encontrar el costo mínimo de un problema de regresión.\n",
    "\n",
    "Para encontrar el mínimo en una ecuación se usa el cálculo multivariable, se aplica las derivadas parciales a la función de coste, respecto a cada parámetro $\\theta_0\\ y\\ \\theta_1$. A su vez, se establece una tasa de aprendizaje que ayuda a estar re calculando los parámetros hasta que este converja a un mínimo. En este sentido el algoritmo se expresa de la siguiente manera.\n",
    "\n",
    "Repetir hasta converger {\n",
    "    $$\\theta_j := \\theta_j - \\alpha \\frac{\\partial}{\\partial \\theta_j}\\ J(\\theta_0,\\ \\theta_1)$$\n",
    "    $$(Para\\ j = 1\\ y\\ j = 0)$$\n",
    "\n",
    "}\n",
    "\n",
    "donde:\n",
    "* $\\alpha$ es la tasa de aprendizaje.\n",
    "\n",
    "**Derivadas parciales para $\\theta_0\\ y\\ \\theta_1$**\n",
    "\n",
    "$$j = 0\\ :\\ \\frac{\\partial}{\\partial \\theta_0} = \\frac{1}{m} \\sum_{i=1}^{m}(h_0(x^i) - y^i)$$\n",
    "$$j = 1\\ :\\ \\frac{\\partial}{\\partial \\theta_1} = \\frac{1}{m} \\sum_{i=1}^{m}(h_0(x^i) - y^i)\\cdot x^i$$\n",
    "\n",
    "Dadas estas derivadas, el algoritmo queda de la siguiente manera:\n",
    "\n",
    "Repetir hasta converger {\n",
    "    $$\\theta_0 := \\theta_0 - \\alpha  \\frac{1}{m} \\sum_{i=1}^{m}(h_0(x^i) - y^i)$$\n",
    "    $$\\theta_1 := \\theta_1 - \\alpha  \\frac{1}{m} \\sum_{i=1}^{m}(h_0(x^i) - y^i)\\cdot x^i$$\n",
    "    \n",
    "* Actualizar $\\theta_0$\n",
    "\n",
    "* Actualizar $\\theta_1$\n",
    "\n",
    "\n",
    "}"
   ]
  },
  {
   "cell_type": "markdown",
   "id": "cc98ff03",
   "metadata": {
    "heading_collapsed": true
   },
   "source": [
    "### Implementación en código"
   ]
  },
  {
   "cell_type": "code",
   "execution_count": 1,
   "id": "006bc13d",
   "metadata": {
    "hidden": true
   },
   "outputs": [],
   "source": [
    "import time\n",
    "from IPython.display import clear_output\n",
    "\n",
    "import pandas as pd\n",
    "import numpy as np\n",
    "import matplotlib\n",
    "import matplotlib.pyplot as plt\n",
    "\n",
    "matplotlib.style.use('ggplot')"
   ]
  },
  {
   "cell_type": "markdown",
   "id": "a7ec87e6",
   "metadata": {
    "hidden": true
   },
   "source": [
    "Uno de los dataset por excelencia para comprender el algoritmo de Regresión Lineal es el del precio de las casas de Boston. \n",
    "\n",
    "La data está disponible en el siguiente enlace. [Enlace](https://www.kaggle.com/vikrishnan/boston-house-prices)"
   ]
  },
  {
   "cell_type": "code",
   "execution_count": 2,
   "id": "b2158344",
   "metadata": {
    "hidden": true
   },
   "outputs": [
    {
     "data": {
      "text/html": [
       "<div>\n",
       "<style scoped>\n",
       "    .dataframe tbody tr th:only-of-type {\n",
       "        vertical-align: middle;\n",
       "    }\n",
       "\n",
       "    .dataframe tbody tr th {\n",
       "        vertical-align: top;\n",
       "    }\n",
       "\n",
       "    .dataframe thead th {\n",
       "        text-align: right;\n",
       "    }\n",
       "</style>\n",
       "<table border=\"1\" class=\"dataframe\">\n",
       "  <thead>\n",
       "    <tr style=\"text-align: right;\">\n",
       "      <th></th>\n",
       "      <th>0</th>\n",
       "      <th>1</th>\n",
       "      <th>2</th>\n",
       "      <th>3</th>\n",
       "      <th>4</th>\n",
       "      <th>5</th>\n",
       "      <th>6</th>\n",
       "      <th>7</th>\n",
       "      <th>8</th>\n",
       "      <th>9</th>\n",
       "      <th>10</th>\n",
       "      <th>11</th>\n",
       "      <th>12</th>\n",
       "      <th>13</th>\n",
       "    </tr>\n",
       "  </thead>\n",
       "  <tbody>\n",
       "    <tr>\n",
       "      <th>0</th>\n",
       "      <td>0.00632</td>\n",
       "      <td>18.0</td>\n",
       "      <td>2.31</td>\n",
       "      <td>0</td>\n",
       "      <td>0.538</td>\n",
       "      <td>6.575</td>\n",
       "      <td>65.2</td>\n",
       "      <td>4.0900</td>\n",
       "      <td>1</td>\n",
       "      <td>296.0</td>\n",
       "      <td>15.3</td>\n",
       "      <td>396.90</td>\n",
       "      <td>4.98</td>\n",
       "      <td>24.0</td>\n",
       "    </tr>\n",
       "    <tr>\n",
       "      <th>1</th>\n",
       "      <td>0.02731</td>\n",
       "      <td>0.0</td>\n",
       "      <td>7.07</td>\n",
       "      <td>0</td>\n",
       "      <td>0.469</td>\n",
       "      <td>6.421</td>\n",
       "      <td>78.9</td>\n",
       "      <td>4.9671</td>\n",
       "      <td>2</td>\n",
       "      <td>242.0</td>\n",
       "      <td>17.8</td>\n",
       "      <td>396.90</td>\n",
       "      <td>9.14</td>\n",
       "      <td>21.6</td>\n",
       "    </tr>\n",
       "    <tr>\n",
       "      <th>2</th>\n",
       "      <td>0.02729</td>\n",
       "      <td>0.0</td>\n",
       "      <td>7.07</td>\n",
       "      <td>0</td>\n",
       "      <td>0.469</td>\n",
       "      <td>7.185</td>\n",
       "      <td>61.1</td>\n",
       "      <td>4.9671</td>\n",
       "      <td>2</td>\n",
       "      <td>242.0</td>\n",
       "      <td>17.8</td>\n",
       "      <td>392.83</td>\n",
       "      <td>4.03</td>\n",
       "      <td>34.7</td>\n",
       "    </tr>\n",
       "    <tr>\n",
       "      <th>3</th>\n",
       "      <td>0.03237</td>\n",
       "      <td>0.0</td>\n",
       "      <td>2.18</td>\n",
       "      <td>0</td>\n",
       "      <td>0.458</td>\n",
       "      <td>6.998</td>\n",
       "      <td>45.8</td>\n",
       "      <td>6.0622</td>\n",
       "      <td>3</td>\n",
       "      <td>222.0</td>\n",
       "      <td>18.7</td>\n",
       "      <td>394.63</td>\n",
       "      <td>2.94</td>\n",
       "      <td>33.4</td>\n",
       "    </tr>\n",
       "    <tr>\n",
       "      <th>4</th>\n",
       "      <td>0.06905</td>\n",
       "      <td>0.0</td>\n",
       "      <td>2.18</td>\n",
       "      <td>0</td>\n",
       "      <td>0.458</td>\n",
       "      <td>7.147</td>\n",
       "      <td>54.2</td>\n",
       "      <td>6.0622</td>\n",
       "      <td>3</td>\n",
       "      <td>222.0</td>\n",
       "      <td>18.7</td>\n",
       "      <td>396.90</td>\n",
       "      <td>5.33</td>\n",
       "      <td>36.2</td>\n",
       "    </tr>\n",
       "  </tbody>\n",
       "</table>\n",
       "</div>"
      ],
      "text/plain": [
       "        0     1     2   3      4      5     6       7   8      9     10  \\\n",
       "0  0.00632  18.0  2.31   0  0.538  6.575  65.2  4.0900   1  296.0  15.3   \n",
       "1  0.02731   0.0  7.07   0  0.469  6.421  78.9  4.9671   2  242.0  17.8   \n",
       "2  0.02729   0.0  7.07   0  0.469  7.185  61.1  4.9671   2  242.0  17.8   \n",
       "3  0.03237   0.0  2.18   0  0.458  6.998  45.8  6.0622   3  222.0  18.7   \n",
       "4  0.06905   0.0  2.18   0  0.458  7.147  54.2  6.0622   3  222.0  18.7   \n",
       "\n",
       "       11    12    13  \n",
       "0  396.90  4.98  24.0  \n",
       "1  396.90  9.14  21.6  \n",
       "2  392.83  4.03  34.7  \n",
       "3  394.63  2.94  33.4  \n",
       "4  396.90  5.33  36.2  "
      ]
     },
     "execution_count": 2,
     "metadata": {},
     "output_type": "execute_result"
    }
   ],
   "source": [
    "data = pd.read_csv('../data/housing.csv', header=None, sep='\\s+')\n",
    "data.head()"
   ]
  },
  {
   "cell_type": "markdown",
   "id": "fd04287f",
   "metadata": {
    "hidden": true
   },
   "source": [
    "Vemos que el dataset no tiene columnas, afortunadamente Kaggle nos proporciona el nombre de las mismas para poder añadírselas.\n",
    "\n",
    "* CRIM: tasa de criminalidad en la zona.\n",
    "* ZN: proporción de suelo residencial zonificado para lotes de más de 25,000 pies cuadrados.\n",
    "* INDUS: proporción de acres comerciales no minoristas por ciudad.\n",
    "* CHAS: variable ficticia del río Charles (= 1 si el tramo limita con el río; 0 en caso contrario).\n",
    "* NOX: concentración de óxidos nítricos (partes por 10 millones).\n",
    "* RM: promedio de cuartos por vivienda.\n",
    "* EDAD: proporción de unidades ocupadas por sus propietarios construidas antes de 1940.\n",
    "* DIS: distancias ponderadas a cinco centros de empleo de Boston.\n",
    "* RAD: índice de accesibilidad a las carreteras radiales.\n",
    "* TAX: tasa de impuesto a la propiedad de valor total por $ 10,000.\n",
    "PTRATIO: proporción de alumnos por maestro por ciudad.\n",
    "* B: 1000 * (Bk−0.63)2 donde Bk es la proporción de negros por ciudad.\n",
    "* LSTAT: \\% de la población con status inferior.\n",
    "* MEDV: valor medio de las viviendas ocupadas por sus propietarios en miles de dólares."
   ]
  },
  {
   "cell_type": "code",
   "execution_count": 3,
   "id": "77747124",
   "metadata": {
    "hidden": true
   },
   "outputs": [
    {
     "data": {
      "text/html": [
       "<div>\n",
       "<style scoped>\n",
       "    .dataframe tbody tr th:only-of-type {\n",
       "        vertical-align: middle;\n",
       "    }\n",
       "\n",
       "    .dataframe tbody tr th {\n",
       "        vertical-align: top;\n",
       "    }\n",
       "\n",
       "    .dataframe thead th {\n",
       "        text-align: right;\n",
       "    }\n",
       "</style>\n",
       "<table border=\"1\" class=\"dataframe\">\n",
       "  <thead>\n",
       "    <tr style=\"text-align: right;\">\n",
       "      <th></th>\n",
       "      <th>CRIM</th>\n",
       "      <th>ZN</th>\n",
       "      <th>INDUS</th>\n",
       "      <th>CHAS</th>\n",
       "      <th>NOX</th>\n",
       "      <th>RM</th>\n",
       "      <th>AGE</th>\n",
       "      <th>DIS</th>\n",
       "      <th>RAD</th>\n",
       "      <th>TAX</th>\n",
       "      <th>PTRATIO</th>\n",
       "      <th>B</th>\n",
       "      <th>LSTAT</th>\n",
       "      <th>MEDV</th>\n",
       "    </tr>\n",
       "  </thead>\n",
       "  <tbody>\n",
       "    <tr>\n",
       "      <th>0</th>\n",
       "      <td>0.00632</td>\n",
       "      <td>18.0</td>\n",
       "      <td>2.31</td>\n",
       "      <td>0</td>\n",
       "      <td>0.538</td>\n",
       "      <td>6.575</td>\n",
       "      <td>65.2</td>\n",
       "      <td>4.0900</td>\n",
       "      <td>1</td>\n",
       "      <td>296.0</td>\n",
       "      <td>15.3</td>\n",
       "      <td>396.90</td>\n",
       "      <td>4.98</td>\n",
       "      <td>24.0</td>\n",
       "    </tr>\n",
       "    <tr>\n",
       "      <th>1</th>\n",
       "      <td>0.02731</td>\n",
       "      <td>0.0</td>\n",
       "      <td>7.07</td>\n",
       "      <td>0</td>\n",
       "      <td>0.469</td>\n",
       "      <td>6.421</td>\n",
       "      <td>78.9</td>\n",
       "      <td>4.9671</td>\n",
       "      <td>2</td>\n",
       "      <td>242.0</td>\n",
       "      <td>17.8</td>\n",
       "      <td>396.90</td>\n",
       "      <td>9.14</td>\n",
       "      <td>21.6</td>\n",
       "    </tr>\n",
       "    <tr>\n",
       "      <th>2</th>\n",
       "      <td>0.02729</td>\n",
       "      <td>0.0</td>\n",
       "      <td>7.07</td>\n",
       "      <td>0</td>\n",
       "      <td>0.469</td>\n",
       "      <td>7.185</td>\n",
       "      <td>61.1</td>\n",
       "      <td>4.9671</td>\n",
       "      <td>2</td>\n",
       "      <td>242.0</td>\n",
       "      <td>17.8</td>\n",
       "      <td>392.83</td>\n",
       "      <td>4.03</td>\n",
       "      <td>34.7</td>\n",
       "    </tr>\n",
       "    <tr>\n",
       "      <th>3</th>\n",
       "      <td>0.03237</td>\n",
       "      <td>0.0</td>\n",
       "      <td>2.18</td>\n",
       "      <td>0</td>\n",
       "      <td>0.458</td>\n",
       "      <td>6.998</td>\n",
       "      <td>45.8</td>\n",
       "      <td>6.0622</td>\n",
       "      <td>3</td>\n",
       "      <td>222.0</td>\n",
       "      <td>18.7</td>\n",
       "      <td>394.63</td>\n",
       "      <td>2.94</td>\n",
       "      <td>33.4</td>\n",
       "    </tr>\n",
       "    <tr>\n",
       "      <th>4</th>\n",
       "      <td>0.06905</td>\n",
       "      <td>0.0</td>\n",
       "      <td>2.18</td>\n",
       "      <td>0</td>\n",
       "      <td>0.458</td>\n",
       "      <td>7.147</td>\n",
       "      <td>54.2</td>\n",
       "      <td>6.0622</td>\n",
       "      <td>3</td>\n",
       "      <td>222.0</td>\n",
       "      <td>18.7</td>\n",
       "      <td>396.90</td>\n",
       "      <td>5.33</td>\n",
       "      <td>36.2</td>\n",
       "    </tr>\n",
       "  </tbody>\n",
       "</table>\n",
       "</div>"
      ],
      "text/plain": [
       "      CRIM    ZN  INDUS  CHAS    NOX     RM   AGE     DIS  RAD    TAX  \\\n",
       "0  0.00632  18.0   2.31     0  0.538  6.575  65.2  4.0900    1  296.0   \n",
       "1  0.02731   0.0   7.07     0  0.469  6.421  78.9  4.9671    2  242.0   \n",
       "2  0.02729   0.0   7.07     0  0.469  7.185  61.1  4.9671    2  242.0   \n",
       "3  0.03237   0.0   2.18     0  0.458  6.998  45.8  6.0622    3  222.0   \n",
       "4  0.06905   0.0   2.18     0  0.458  7.147  54.2  6.0622    3  222.0   \n",
       "\n",
       "   PTRATIO       B  LSTAT  MEDV  \n",
       "0     15.3  396.90   4.98  24.0  \n",
       "1     17.8  396.90   9.14  21.6  \n",
       "2     17.8  392.83   4.03  34.7  \n",
       "3     18.7  394.63   2.94  33.4  \n",
       "4     18.7  396.90   5.33  36.2  "
      ]
     },
     "execution_count": 3,
     "metadata": {},
     "output_type": "execute_result"
    }
   ],
   "source": [
    "columns = ['CRIM', 'ZN', 'INDUS', 'CHAS', 'NOX', 'RM', 'AGE', 'DIS', 'RAD', 'TAX', 'PTRATIO',\n",
    "          'B', 'LSTAT', 'MEDV']\n",
    "\n",
    "data.columns = columns\n",
    "data.head()"
   ]
  },
  {
   "cell_type": "markdown",
   "id": "f6f3846c",
   "metadata": {
    "hidden": true
   },
   "source": [
    "Se procederá a predecir el precio medio de la vivienda (MEDV) respecto al número de habitaciones que la compone (RM)."
   ]
  },
  {
   "cell_type": "code",
   "execution_count": 9,
   "id": "63ee843f",
   "metadata": {
    "hidden": true
   },
   "outputs": [],
   "source": [
    "# Variables necesarias para el modelo\n",
    "m = len(data)\n",
    "x = data['RM']\n",
    "y = data['MEDV']"
   ]
  },
  {
   "cell_type": "code",
   "execution_count": 8,
   "id": "e0c83f6f",
   "metadata": {
    "hidden": true
   },
   "outputs": [
    {
     "name": "stdout",
     "output_type": "stream",
     "text": [
      "Predicción a la iteración 50000\n",
      "Costo a la iteración 50000: 21.800321736784475\n",
      "Theta_0: -34.584358797761816, Theta_1: 9.088548160811078\n",
      "Precio = -34.584358797761816 + 9.088548160811078 * X\n"
     ]
    },
    {
     "data": {
      "image/png": "[encoded data removed]",
      "text/plain": [
       "<Figure size 576x576 with 1 Axes>"
      ]
     },
     "metadata": {},
     "output_type": "display_data"
    }
   ],
   "source": [
    "# Function to calculate y_pred\n",
    "def get_y_pred(x, theta):\n",
    "    return theta[0] + theta[1] * x\n",
    "\n",
    "# Function to calculate the cost\n",
    "def get_cost(y_pred, y):\n",
    "    return (np.sum((y_pred - y).dot((y_pred - y).T))) / (2 * m)\n",
    "\n",
    "# Gradient descent to find the optimal parameters\n",
    "def get_predictions(x, y, n_iter, theta, alpha=0.01):\n",
    "    for i in range(n_iter):\n",
    "        # Predecimos y respecto a theta en las iteración i-ésima\n",
    "        \n",
    "        y_pred = get_y_pred(x, theta)\n",
    "        \n",
    "        # Calculamos los parámetros theta_0 y theta_1 en la iteración i-ésima\n",
    "        theta_0 = theta[0] - (alpha * ((np.sum(y_pred - y)) / m))\n",
    "        theta_1 = theta[1] - (alpha * ((np.sum((y_pred - y) * x)) / m))\n",
    "        \n",
    "        theta = [theta_0, theta_1]\n",
    "        \n",
    "        # Calculamos el costo respecto a y_pred en las iteración i-ésima\n",
    "        cost = get_cost(y_pred, y)\n",
    "        \n",
    "        # Hacemos una visualización cada 1000 iteraciones\n",
    "        if i % 1000 == 0:\n",
    "            print('Predicción a la iteración {}'.format(i))\n",
    "            print('Costo a la iteración {}: {}'.format(i, cost))\n",
    "            print('Theta_0: {}, Theta_1: {}'.format(theta_0, theta_1))\n",
    "            print('Precio = {} + {} * X'.format(theta_0, theta_1))\n",
    "            plt.figure(figsize=(8,8))\n",
    "            plt.scatter(x, y, label='Datos Reales')\n",
    "            plt.plot(x, y_pred, color='k', label='Predicción')\n",
    "            plt.title('Num Habitaciones vs Precio')\n",
    "            plt.xlabel('Numero de Habitaciones')\n",
    "            plt.ylabel('Precio en Miles de Dolares')\n",
    "            plt.legend(loc='best')\n",
    "            plt.show()\n",
    "            \n",
    "            time.sleep(0.1)\n",
    "            clear_output(wait=True)\n",
    "            \n",
    "    # Retornamos los parámetros theta_0 y theta_1 óptimos encontrados\n",
    "    return theta\n",
    "\n",
    "# Corremos el algoritmo.\n",
    "initial_theta = theta = np.array([0,0])\n",
    "n_inter = 50001\n",
    "\n",
    "theta_optim = get_predictions(x, y, n_inter, initial_theta)"
   ]
  },
  {
   "cell_type": "markdown",
   "id": "1fb29b9a",
   "metadata": {
    "hidden": true
   },
   "source": [
    "Como se puede observar, el costo se va minimizando en cada iteración, y gracias al algoritmo del descenso del gradiente podemos encontrar los valores de Theta óptimos para la predicción."
   ]
  },
  {
   "cell_type": "markdown",
   "id": "34fd9f77",
   "metadata": {
    "heading_collapsed": true
   },
   "source": [
    "### Algoritmo con la librería SK-Learn"
   ]
  },
  {
   "cell_type": "markdown",
   "id": "1ff1fefd",
   "metadata": {
    "hidden": true
   },
   "source": [
    "No es escalable estar implementando en código el algoritmo cada vez que se necesite, para ello, podemos ayudarnos de librerías como Scikit Learn que ya lo tiene implementado y es muy eficiente. Es así como podemos, en pocas líneas de código, llegar a una solución óptima."
   ]
  },
  {
   "cell_type": "code",
   "execution_count": 10,
   "id": "95129e6a",
   "metadata": {
    "hidden": true
   },
   "outputs": [],
   "source": [
    "from sklearn.linear_model import LinearRegression"
   ]
  },
  {
   "cell_type": "markdown",
   "id": "1de431a9",
   "metadata": {
    "hidden": true
   },
   "source": [
    "La diferencia es que Sklearn necesita un array de 2 dimensiones para funcionar, por lo que será necesario re escalar la data."
   ]
  },
  {
   "cell_type": "code",
   "execution_count": 11,
   "id": "06e634ab",
   "metadata": {
    "hidden": true
   },
   "outputs": [],
   "source": [
    "x = x.values.reshape(-1,1)\n",
    "y = y.values.reshape(-1,1)"
   ]
  },
  {
   "cell_type": "code",
   "execution_count": 12,
   "id": "c4a382cd",
   "metadata": {
    "hidden": true
   },
   "outputs": [
    {
     "data": {
      "text/plain": [
       "LinearRegression()"
      ]
     },
     "execution_count": 12,
     "metadata": {},
     "output_type": "execute_result"
    }
   ],
   "source": [
    "model = LinearRegression()\n",
    "model.fit(x, y)\n",
    "\n",
    "# Opteniendo theta_0 y theta_1\n",
    "theta_0 = model.intercept_\n",
    "theta_1 = model.coef_\n",
    "theta_0, theta_1"
   ]
  },
  {
   "cell_type": "markdown",
   "id": "eb84508a",
   "metadata": {
    "hidden": true
   },
   "source": [
    "Como se puede observar, hemos obtenido los mismo valores pero con una implementación más sencilla, clara y rápida."
   ]
  },
  {
   "cell_type": "markdown",
   "id": "92fbe21f",
   "metadata": {
    "heading_collapsed": true
   },
   "source": [
    "## Regresión Lineal Múltiple"
   ]
  },
  {
   "cell_type": "markdown",
   "id": "f6e1cc2d",
   "metadata": {
    "heading_collapsed": true,
    "hidden": true
   },
   "source": [
    "### Hipótesis de la Regresión Lineal Múltiple"
   ]
  },
  {
   "cell_type": "markdown",
   "id": "d11d5c56",
   "metadata": {
    "hidden": true
   },
   "source": [
    "El algoritmo de regresión lineal simple puede ser muy útil, pero en ocasiones puede quedarse corto, o para problemas un poco más complejos, pueda que no sea la mejor alternativa para realizar predicciones.\n",
    "\n",
    "El modelo de regresión lineal múltiple sigue el mismo concepto que el simple, la diferencia es que ahora agregamos más de una variable independiente $x$. Siguiendo este sentido, la hipótesis de este algoritmo queda de la siguiente manera:\n",
    "\n",
    "$$Hypotesis: h_0(x) = \\theta_0 + \\theta_1 \\cdot x_1 + \\theta_2 \\cdot x_2 + \\dots + \\theta_n \\cdot x_n$$\n",
    "\n",
    "donde:\n",
    "\n",
    "* $h_0(x):$ Es la predicción, es decir la variable y.\n",
    "* $\\theta_0, \\ \\theta_2, \\ \\dots, \\ \\theta_n:$ Son los parámetros que el algoritmo trata de encontrar tales que el error de la predicción sea lo mínimo posible."
   ]
  },
  {
   "cell_type": "markdown",
   "id": "b55e715d",
   "metadata": {
    "heading_collapsed": true,
    "hidden": true
   },
   "source": [
    "### Función de coste"
   ]
  },
  {
   "cell_type": "markdown",
   "id": "60b003bc",
   "metadata": {
    "hidden": true
   },
   "source": [
    "La función de costo para este algoritmo es la misma que un modelo lineal, la diferencia es que ahora se tienen que inicializar más parámetros $\\theta$, tales que el número de $\\theta_s$ es igual a $n+1$, donde $n$ es el total de variables independientes.\n",
    "\n",
    "$$J(\\theta_s) = \\frac{1}{2m} \\sum_{i=1}^{m}(h_0(x^i) - y^i)^2$$\n",
    "\n",
    "El objetivo final del algoritmo es minimizar $J(\\theta_s)$ es decir, encontrar los $\\theta_s$ óptimos que minimicen el costo o también llamado pérdida."
   ]
  },
  {
   "cell_type": "markdown",
   "id": "baff8372",
   "metadata": {
    "heading_collapsed": true,
    "hidden": true
   },
   "source": [
    "### Descenso del Gradiente"
   ]
  },
  {
   "cell_type": "markdown",
   "id": "214f5dc1",
   "metadata": {
    "hidden": true
   },
   "source": [
    "Tomamos como referencia el descenso del gradiente para el modelo lineal, la diferencia es que ahora tenemos que encontrar más parámetros, pero el proceso es el mismo.\n",
    "\n",
    "Repetir hasta converger {\n",
    "    $$\\theta_0 := \\theta_0 - \\alpha  \\frac{1}{m} \\sum_{i=1}^{m}(h_0(x^i) - y^i)$$\n",
    "    $$\\theta_s\\ 1-n := \\theta_i - \\alpha  \\frac{1}{m} \\sum_{i=1}^{m}(h_0(x^i) - y^i)\\cdot x^i$$\n",
    "    \n",
    "* Actualizar $\\theta_0$\n",
    "\n",
    "* Actualizar $\\theta_s$ del 1 a n\n",
    "\n",
    "\n",
    "}\n",
    "\n"
   ]
  },
  {
   "cell_type": "markdown",
   "id": "c1fe4288",
   "metadata": {
    "heading_collapsed": true,
    "hidden": true
   },
   "source": [
    "### Implementación en código"
   ]
  },
  {
   "cell_type": "markdown",
   "id": "8579f24f",
   "metadata": {
    "hidden": true
   },
   "source": [
    "En este caso de estudio, y para ilustrar como se crea un algoritmo de regresión lineal múltiple, tomaremos el mismo set de datos y agregaremos una variable más, esta es la variable LSTAT."
   ]
  },
  {
   "cell_type": "markdown",
   "id": "e2531c4c",
   "metadata": {
    "hidden": true
   },
   "source": [
    "Se procede a seleccionar las variables del conjunto de datos."
   ]
  },
  {
   "cell_type": "code",
   "execution_count": 12,
   "id": "58b05687",
   "metadata": {
    "hidden": true
   },
   "outputs": [],
   "source": [
    "# Variables independientes\n",
    "x = data[['RM', 'LSTAT']]\n",
    "\n",
    "# Variable a predecir y\n",
    "y = data['MEDV']\n",
    "\n",
    "m = len(data)\n",
    "\n",
    "# Agregando una columna de 1 a la variable x\n",
    "x = x.assign(ones=1)\n",
    "\n",
    "# Re ordenando para que los unos sean la primera columna\n",
    "x = x[['ones', 'RM', 'LSTAT']].values"
   ]
  },
  {
   "cell_type": "markdown",
   "id": "dda37168",
   "metadata": {
    "hidden": true
   },
   "source": [
    "> **Nota:** Agregamos la primera columna de unos para implementar una solución vectorizada. Theta_0 no se multiplica con ninguna variable X. Para no alterar este parámetro, lo multiplicamos por 1."
   ]
  },
  {
   "cell_type": "code",
   "execution_count": 14,
   "id": "468bd9fe",
   "metadata": {
    "hidden": true
   },
   "outputs": [
    {
     "name": "stdout",
     "output_type": "stream",
     "text": [
      "Los Theta óptimos son: [-1.3528106   5.09403207 -0.64241202]\n"
     ]
    }
   ],
   "source": [
    "# Predecir y-value\n",
    "def pred_y_multy(x, thetas):\n",
    "    return x.dot(thetas.T)\n",
    "\n",
    "# Función de coste\n",
    "def get_cost_multy(y_pred, y):\n",
    "    return (1 / 2*m) * np.sum((y_pred - y) * (y_pred - y))\n",
    "\n",
    "# Inplementación del algoritmo de descenso del gradiente\n",
    "def get_gradient_multy(x, y, n_iter, thetas, alpha):\n",
    "    for i in range(n_iter):\n",
    "        y_pred = pred_y_multy(x, thetas)\n",
    "        \n",
    "        thetas = thetas - (alpha * ((1 / m)*((y_pred - y).T.dot(x))))\n",
    "        \n",
    "    return thetas\n",
    "\n",
    "initial_thetas = np.array([0,0,0])\n",
    "alpha = 0.001\n",
    "n_iter = 1000000\n",
    "thetas = get_gradient_multy(x,y,n_iter, initial_thetas, alpha)\n",
    "\n",
    "print('Los Theta óptimos son: {}'.format(thetas))"
   ]
  },
  {
   "cell_type": "markdown",
   "id": "0514efd9",
   "metadata": {
    "heading_collapsed": true,
    "hidden": true
   },
   "source": [
    "### Algoritmo con Scikit-Learn"
   ]
  },
  {
   "cell_type": "markdown",
   "id": "32f91661",
   "metadata": {
    "hidden": true
   },
   "source": [
    "En la práctica, aplicar un código desde cero resulta poco escalable, afortunadamente, existen librerías que nos ayudan a obtener resultados de forma rápida y precisa. Scikit-Learn es por excelencia una de las mejores en el ámbito del Machine Learning. Podemos implementar un modelo de regresión múltiple con solo unas pocas líneas de código."
   ]
  },
  {
   "cell_type": "code",
   "execution_count": 18,
   "id": "5c6d116c",
   "metadata": {
    "hidden": true
   },
   "outputs": [
    {
     "name": "stdout",
     "output_type": "stream",
     "text": [
      "[-1.35827281] [[ 5.09478798 -0.64235833]]\n"
     ]
    }
   ],
   "source": [
    "from sklearn.linear_model import LinearRegression\n",
    "\n",
    "X = data[['RM', 'LSTAT']].values\n",
    "y = data['MEDV'].values.reshape(-1, 1)\n",
    "\n",
    "slr = LinearRegression()\n",
    "slr.fit(X, y)\n",
    "\n",
    "coef = slr.coef_\n",
    "intercept = slr.intercept_\n",
    "\n",
    "print(intercept, coef)"
   ]
  },
  {
   "cell_type": "markdown",
   "id": "fc239497",
   "metadata": {
    "hidden": true
   },
   "source": [
    "Los valores que nos da como resultado Scikit-Learn son parecidos a los que se obtuvieron con el algoritmo aplicado en código.\n",
    "Pero hay que destacar que, Scikit-Learn es más rápido y por ende una mejor solución."
   ]
  },
  {
   "cell_type": "markdown",
   "id": "9f0540ad",
   "metadata": {
    "hidden": true
   },
   "source": [
    "Representar visualmente datos con dos o más características analizadas resulta complicado, en el siguiente gráfico se busca resaltar como los datos son proyectados a una solución dada por el algoritmo. Pero no es la mejor manera de hacerlo.\n",
    "\n",
    "Lo importante es entender los resultados y tomar decisiones en base a los mismos."
   ]
  },
  {
   "cell_type": "code",
   "execution_count": 52,
   "id": "22398554",
   "metadata": {
    "hidden": true
   },
   "outputs": [
    {
     "data": {
      "image/png": "[encoded data removed]",
      "text/plain": [
       "<Figure size 720x576 with 1 Axes>"
      ]
     },
     "metadata": {},
     "output_type": "display_data"
    }
   ],
   "source": [
    "from mpl_toolkits.mplot3d import *\n",
    "\n",
    "x1_range = np.arange(data['RM'].min(),data['RM'].max())\n",
    "x2_range = np.arange(data['LSTAT'].min(),data['LSTAT'].max())\n",
    "\n",
    "X1, X2 = np.meshgrid(x1_range,x2_range)\n",
    "\n",
    "plano = pd.DataFrame({'RM':X1.ravel(), 'LSTAT':X2.ravel()})\n",
    "pred = slr.predict(plano).reshape(X1.shape)\n",
    "\n",
    "fig = plt.figure(figsize=(10,8))\n",
    "ax = fig.gca(projection='3d')\n",
    "ax.plot_surface(X1,X2,pred, alpha=0.4, color='b')\n",
    "\n",
    "ax.scatter3D(data['RM'], data['LSTAT'], data['MEDV'], color='r', marker='.')\n",
    "ax.view_init(elev=10, azim=15)\n",
    "plt.show()"
   ]
  }
 ],
 "metadata": {
  "authors": [
   {
    "name": "José Luis Higuera Caraveo"
   }
  ],
  "colab": {
   "collapsed_sections": [
    "uW-Xfqevr7Sy"
   ],
   "name": "Recursos Humanos",
   "provenance": []
  },
  "date": "Febrero 25 2022",
  "kernelspec": {
   "display_name": "Python 3 (ipykernel)",
   "language": "python",
   "name": "python3"
  },
  "language_info": {
   "codemirror_mode": {
    "name": "ipython",
    "version": 3
   },
   "file_extension": ".py",
   "mimetype": "text/x-python",
   "name": "python",
   "nbconvert_exporter": "python",
   "pygments_lexer": "ipython3",
   "version": "3.7.12"
  },
  "title": "Regresión Lineal con Python"
 },
 "nbformat": 4,
 "nbformat_minor": 5
}
