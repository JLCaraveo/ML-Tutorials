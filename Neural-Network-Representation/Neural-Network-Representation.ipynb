{
 "cells": [
  {
   "cell_type": "markdown",
   "id": "1ee8c2e4",
   "metadata": {},
   "source": [
    "# What is a Neural Network?"
   ]
  },
  {
   "cell_type": "markdown",
   "id": "fd74a3b1",
   "metadata": {},
   "source": [
    "A Neural Network, or Artificial Neural Network is an algorithm used to find important parameters from the input features in order to calculate a prediction. Put in practice the Neural Network Algorithms ca be useful to solve problems and make decisions.\n",
    "\n",
    "Neural networks are within the field of Machine Learning, specifically they are supervised algorithms, that is, they need values ​​that will be used as input to the network and labels, which are the targets that the network aims to predict."
   ]
  },
  {
   "cell_type": "markdown",
   "id": "79502000",
   "metadata": {},
   "source": [
    "## Type of models"
   ]
  },
  {
   "cell_type": "markdown",
   "id": "288c9d94",
   "metadata": {},
   "source": [
    "### Regression Model"
   ]
  },
  {
   "cell_type": "markdown",
   "id": "bf26add4",
   "metadata": {},
   "source": [
    "With a regression model the Neural Network will work with a function that describes the relation between the input features and the output prediction.\n",
    "\n",
    "The main formula of one regression model is:\n",
    "\n",
    "$$\\hat{y} = \\theta_0 + \\theta_1 \\cdot x_1 + \\theta_2 \\cdot x_2 + \\theta_n \\cdot x_n$$\n",
    "\n",
    "The aim of the Network will be to find the optimal parameters $\\theta_s$ that satisfy the above equation. The number of optimal parameters will be the number of features plus one.\n",
    "\n",
    "The output value of one Regression Model is always a continuos variable."
   ]
  },
  {
   "cell_type": "markdown",
   "id": "75a61419",
   "metadata": {},
   "source": [
    "### Classification Model"
   ]
  },
  {
   "cell_type": "markdown",
   "id": "806a8f4a",
   "metadata": {},
   "source": [
    "Those kind of models are used to categorize the data according to the input features, where, each sample will be categorized into one class.\n",
    "\n",
    "We can have two main types of classification model. The binary classification where the data is categorized into two different categories and the multi-class classification model, where the data can be categorized into three or more categories.\n",
    "\n",
    "At the difference to the Regression models, in the classification model we will use probabilities, the aim Neural Network will be to compute the probability that an example falls into a certain category denoted by $y=1$. Thus:\n",
    "\n",
    "$$\\hat{y} = P(y=1|X)$$\n",
    "\n",
    "Due to the probabilities are numbers between 0 and 1, a threshold has to be set. Normally is 0.5, so we have:\n",
    "\n",
    "$$ predictions =\n",
    "\\left\\{\n",
    "\\begin{matrix}\n",
    "y=1 && if && P > threshold \\\\\n",
    "y=0 && if && P > threshold\n",
    "\\end{matrix}\n",
    "\\right.\n",
    "$$"
   ]
  },
  {
   "cell_type": "markdown",
   "id": "0546b8f5",
   "metadata": {},
   "source": [
    "## Neural Network, main components"
   ]
  },
  {
   "cell_type": "markdown",
   "id": "2013adf3",
   "metadata": {},
   "source": [
    "One Neural Network is made up of different layers. The simplest Neutal Network will be made up with one Input Layer and one Output layer. In the practice, this Net is not used, always the analistic use hidden layers to make complex the algorith and hepls to the Neural Network to learn the parameters more quickly.\n",
    "\n",
    "Here we can visualize a common Neural network with one input layer (red dashed square), one hidden layer (blue dashed square) and one output layer (green dashed square).\n",
    "\n",
    "<img src='./images/nn-rep.png' />"
   ]
  },
  {
   "cell_type": "markdown",
   "id": "da1a0c1c",
   "metadata": {},
   "source": [
    "### Input layer."
   ]
  },
  {
   "cell_type": "markdown",
   "id": "f584193e",
   "metadata": {},
   "source": [
    "The input layer of one Neural Network refers to the data that will be used to train the model, each $x_1,\\ x_2,\\ \\dots,\\ x_n$ represent the input features of the data.\n",
    "\n",
    "For example, if we want to predict the price of houses, the inputs features could be the constructed area, the number of rooms, how many bathrooms are there, etc."
   ]
  },
  {
   "cell_type": "markdown",
   "id": "14e6c73c",
   "metadata": {},
   "source": [
    "### Hidden layers."
   ]
  },
  {
   "cell_type": "markdown",
   "id": "75c24667",
   "metadata": {},
   "source": [
    "Between the input and output layer we can add the number os layers as the user wants.\n",
    "\n",
    "Each hidden layer contains nodes, the number of nodes on each hidden layer also can be tuned by the user."
   ]
  },
  {
   "cell_type": "markdown",
   "id": "2e4df375",
   "metadata": {},
   "source": [
    "### Output layer"
   ]
  },
  {
   "cell_type": "markdown",
   "id": "919bf351",
   "metadata": {},
   "source": [
    "The output layer of one Neural Networs refers to the prediction made by the algorithm.\n",
    "\n",
    "The number of nodes will be selected according with the problem that is beeing analyzed.\n",
    "\n",
    "* **Neural Network Regression:** On this kind of models, the commun number of nodes is just one, releated to the predicted value.\n",
    "* **Neural Network Classification (Binary Classification):** The numbers of nodes needed is just one. But why not use two? This is not necessary since if the node is activated it will inform us that the prediction is one of the two possible classes, if it is not activated it will tell us that the prediction is the other class.\n",
    "* **Neural Network Classification (Multi-Class Classification):** The number of nodes will be the number of classes which the sample can be categorized."
   ]
  }
 ],
 "metadata": {
  "kernelspec": {
   "display_name": "Python 3 (ipykernel)",
   "language": "python",
   "name": "python3"
  },
  "language_info": {
   "codemirror_mode": {
    "name": "ipython",
    "version": 3
   },
   "file_extension": ".py",
   "mimetype": "text/x-python",
   "name": "python",
   "nbconvert_exporter": "python",
   "pygments_lexer": "ipython3",
   "version": "3.7.12"
  }
 },
 "nbformat": 4,
 "nbformat_minor": 5
}
